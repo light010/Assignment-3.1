{
 "cells": [
  {
   "cell_type": "code",
   "execution_count": 1,
   "metadata": {},
   "outputs": [
    {
     "name": "stdout",
     "output_type": "stream",
     "text": [
      "An error is being raised\n"
     ]
    }
   ],
   "source": [
    "fiv = 5                           #defining variables\n",
    "zer = 0\n",
    "\n",
    "try:\n",
    "    div = fiv/zer \n",
    "except ZeroDivisionError:                #raising an exception for ZeroDivisionError\n",
    "    print(\"An error is being raised\")\n",
    "else:\n",
    "    print(\"Program executed\")"
   ]
  },
  {
   "cell_type": "code",
   "execution_count": null,
   "metadata": {
    "collapsed": true
   },
   "outputs": [],
   "source": []
  }
 ],
 "metadata": {
  "kernelspec": {
   "display_name": "Python 3",
   "language": "python",
   "name": "python3"
  },
  "language_info": {
   "codemirror_mode": {
    "name": "ipython",
    "version": 3
   },
   "file_extension": ".py",
   "mimetype": "text/x-python",
   "name": "python",
   "nbconvert_exporter": "python",
   "pygments_lexer": "ipython3",
   "version": "3.6.3"
  }
 },
 "nbformat": 4,
 "nbformat_minor": 2
}
